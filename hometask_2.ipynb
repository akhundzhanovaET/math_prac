{
 "cells": [
  {
   "cell_type": "markdown",
   "metadata": {},
   "source": [
    "Number 1:"
   ]
  },
  {
   "cell_type": "code",
   "execution_count": 23,
   "metadata": {},
   "outputs": [
    {
     "name": "stdout",
     "output_type": "stream",
     "text": [
      "[[0.89193204 0.29107361 0.00780761]\n",
      " [0.58761147 0.06395907 0.99587574]\n",
      " [0.33893889 0.75512786 0.20542147]\n",
      " [0.74884301 0.88029553 0.26214708]\n",
      " [0.1817827  0.89267275 0.74157394]\n",
      " [0.62495553 0.8827436  0.75071635]\n",
      " [0.31100649 0.84365178 0.86418974]\n",
      " [0.59146619 0.21375357 0.56728024]\n",
      " [0.08217027 0.60939593 0.16569696]\n",
      " [0.43743693 0.8056489  0.03210503]]\n",
      "[0.29107361 0.58761147 0.33893889 0.26214708 0.74157394 0.62495553\n",
      " 0.31100649 0.56728024 0.60939593 0.43743693]\n"
     ]
    }
   ],
   "source": [
    "import numpy as np\n",
    "a=np.random.random((10,3))\n",
    "print(a)\n",
    "print(a[np.arange(10),np.argmin(np.abs(a - 0.5),axis = 1)])"
   ]
  },
  {
   "cell_type": "markdown",
   "metadata": {},
   "source": [
    "Number 2:"
   ]
  },
  {
   "cell_type": "code",
   "execution_count": 11,
   "metadata": {},
   "outputs": [
    {
     "name": "stdout",
     "output_type": "stream",
     "text": [
      "[[0.13696723 0.91717492 0.70013235 0.51828855 0.21967969 0.78405556]\n",
      " [0.96144001 0.51502384 0.66445814 0.44416977 0.38202481 0.09286012]\n",
      " [0.0892963  0.26095014 0.12874437 0.54652219 0.84547091 0.30852619]\n",
      " [0.90034666 0.84812965 0.27561219 0.27076427 0.40038721 0.2519606 ]\n",
      " [0.94868342 0.72031929 0.58192182 0.15252068 0.64183041 0.81710771]\n",
      " [0.00801634 0.23474365 0.53304692 0.60316351 0.06595451 0.59247975]]\n",
      "[3.27629831 3.0599767  2.17951011 2.94720057 3.86238334 2.03740468]\n",
      "[0.00801634 0.23474365 0.12874437 0.15252068 0.06595451 0.09286012]\n",
      "[408.7026086   13.03539736  16.9289736   19.32328458  58.5613203\n",
      "  21.94057802]\n"
     ]
    }
   ],
   "source": [
    "import numpy as np\n",
    "a=np.random.random((6,6))\n",
    "print(a)\n",
    "b=np.sum(a,axis=1)\n",
    "print(b)\n",
    "c=np.min(a,axis=0)\n",
    "print(c)\n",
    "print(b/c)"
   ]
  },
  {
   "cell_type": "markdown",
   "metadata": {},
   "source": [
    "Number 3:"
   ]
  },
  {
   "cell_type": "code",
   "execution_count": 22,
   "metadata": {},
   "outputs": [
    {
     "name": "stdout",
     "output_type": "stream",
     "text": [
      "5\n"
     ]
    }
   ],
   "source": [
    "import numpy as np\n",
    "x=np.array([6, 2, 0, 3, 0, 0, 5, 7, 0])\n",
    "zero==0\n",
    "print(np.max(x[1:][zero[:-1]]))"
   ]
  },
  {
   "cell_type": "markdown",
   "metadata": {},
   "source": [
    "Number 4:"
   ]
  },
  {
   "cell_type": "code",
   "execution_count": 24,
   "metadata": {},
   "outputs": [
    {
     "name": "stdout",
     "output_type": "stream",
     "text": [
      "[2. 2. 2. 2. 1. 4. 1. 1. 2. 1.]\n"
     ]
    }
   ],
   "source": [
    "import numpy as np\n",
    "x=np.ones(10)\n",
    "i=np.array([0, 1, 2, 3, 5, 5, 5, 8])\n",
    "for j in i:\n",
    "    x[j]=x[j]+1\n",
    "print(x)"
   ]
  },
  {
   "cell_type": "code",
   "execution_count": null,
   "metadata": {},
   "outputs": [],
   "source": []
  }
 ],
 "metadata": {
  "kernelspec": {
   "display_name": "Python 3",
   "language": "python",
   "name": "python3"
  },
  "language_info": {
   "codemirror_mode": {
    "name": "ipython",
    "version": 3
   },
   "file_extension": ".py",
   "mimetype": "text/x-python",
   "name": "python",
   "nbconvert_exporter": "python",
   "pygments_lexer": "ipython3",
   "version": "3.7.0"
  }
 },
 "nbformat": 4,
 "nbformat_minor": 2
}
