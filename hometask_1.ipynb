{
 "cells": [
  {
   "cell_type": "code",
   "execution_count": 1,
   "metadata": {},
   "outputs": [],
   "source": [
    "class Test:\n",
    "    @staticmethod\n",
    "    def assert_equals(a, b, *args, **kwargs):\n",
    "        assert a == b\n",
    "        print('Passed')"
   ]
  },
  {
   "cell_type": "markdown",
   "metadata": {},
   "source": [
    "problem https://edabit.com/challenge/KjCS7occ9hfu5snpb (1 point)"
   ]
  },
  {
   "cell_type": "code",
   "execution_count": 2,
   "metadata": {},
   "outputs": [],
   "source": [
    "def addition(number):\n",
    "    return number+1;"
   ]
  },
  {
   "cell_type": "code",
   "execution_count": 3,
   "metadata": {},
   "outputs": [
    {
     "name": "stdout",
     "output_type": "stream",
     "text": [
      "Passed\n",
      "Passed\n",
      "Passed\n"
     ]
    }
   ],
   "source": [
    "Test.assert_equals(addition(0),1)\n",
    "Test.assert_equals(addition(-2),-1)\n",
    "Test.assert_equals(addition(10),11)"
   ]
  },
  {
   "cell_type": "markdown",
   "metadata": {},
   "source": [
    "problem https://edabit.com/challenge/aWLTzrRsrw7RakYrN (1 point)"
   ]
  },
  {
   "cell_type": "code",
   "execution_count": 4,
   "metadata": {},
   "outputs": [],
   "source": [
    "def tri_area (base,height):\n",
    "    return (base*height)/2;"
   ]
  },
  {
   "cell_type": "code",
   "execution_count": 5,
   "metadata": {},
   "outputs": [
    {
     "name": "stdout",
     "output_type": "stream",
     "text": [
      "Passed\n",
      "Passed\n",
      "Passed\n"
     ]
    }
   ],
   "source": [
    "Test.assert_equals(tri_area(2,3),3.0)\n",
    "Test.assert_equals(tri_area(3,5),7.5)\n",
    "Test.assert_equals(tri_area(10,10),50.0)"
   ]
  },
  {
   "cell_type": "markdown",
   "metadata": {},
   "source": [
    "problem https://edabit.com/challenge/MojpPTZYQyN5L2i4a (2 points)"
   ]
  },
  {
   "cell_type": "code",
   "execution_count": 6,
   "metadata": {},
   "outputs": [],
   "source": [
    "def cars(wheels,bodies,figures):\n",
    "    return min(wheels//4,bodies,figures//2);"
   ]
  },
  {
   "cell_type": "code",
   "execution_count": 7,
   "metadata": {},
   "outputs": [
    {
     "name": "stdout",
     "output_type": "stream",
     "text": [
      "Passed\n",
      "Passed\n",
      "Passed\n"
     ]
    }
   ],
   "source": [
    "Test.assert_equals(cars(2, 48, 76),0)\n",
    "Test.assert_equals(cars(43, 15, 87),10)\n",
    "Test.assert_equals(cars(88, 37, 17),8)"
   ]
  },
  {
   "cell_type": "markdown",
   "metadata": {},
   "source": [
    "problem https://edabit.com/challenge/wRf3e8T3vQpG7SmjP (2 points)"
   ]
  },
  {
   "cell_type": "code",
   "execution_count": 8,
   "metadata": {},
   "outputs": [],
   "source": [
    "import math\n",
    "def factorial(num):\n",
    "    if (num > 1):\n",
    "        return math.factorial(num);\n",
    "    elif num == 1:\n",
    "        return 1;\n",
    "    elif num == 0:\n",
    "        return 1;\n",
    "    else:\n",
    "        print (\"num should be positive\");\n",
    "        return;"
   ]
  },
  {
   "cell_type": "code",
   "execution_count": 9,
   "metadata": {},
   "outputs": [
    {
     "name": "stdout",
     "output_type": "stream",
     "text": [
      "Passed\n",
      "Passed\n",
      "Passed\n"
     ]
    }
   ],
   "source": [
    "Test.assert_equals(factorial(0),1)\n",
    "Test.assert_equals(factorial(1),1)\n",
    "Test.assert_equals(factorial(5),120)"
   ]
  },
  {
   "cell_type": "markdown",
   "metadata": {},
   "source": [
    "problem https://edabit.com/challenge/FQyaaJx7orS7tiwz8 (1 point)"
   ]
  },
  {
   "cell_type": "code",
   "execution_count": 10,
   "metadata": {},
   "outputs": [],
   "source": [
    "def convert(minutes): \n",
    "    return minutes*60"
   ]
  },
  {
   "cell_type": "code",
   "execution_count": 11,
   "metadata": {},
   "outputs": [
    {
     "name": "stdout",
     "output_type": "stream",
     "text": [
      "Passed\n",
      "Passed\n",
      "Passed\n"
     ]
    }
   ],
   "source": [
    "Test.assert_equals(convert(6),360)\n",
    "Test.assert_equals(convert(8),480)\n",
    "Test.assert_equals(convert(3),180)"
   ]
  },
  {
   "cell_type": "markdown",
   "metadata": {},
   "source": [
    "problem https://edabit.com/challenge/Zerwo2AENbvRZTe83 (1 point)"
   ]
  },
  {
   "cell_type": "code",
   "execution_count": 12,
   "metadata": {},
   "outputs": [],
   "source": [
    "def nextEdge(side1,side2):\n",
    "    if (side1>0 and side2>0):\n",
    "        return (side1 + side2) - 1;\n",
    "    else:\n",
    "        print(\"sides should be positive numbers\");\n",
    "        return;"
   ]
  },
  {
   "cell_type": "code",
   "execution_count": 14,
   "metadata": {},
   "outputs": [
    {
     "name": "stdout",
     "output_type": "stream",
     "text": [
      "Passed\n",
      "Passed\n",
      "Passed\n"
     ]
    }
   ],
   "source": [
    "Test.assert_equals(nextEdge(2,5),6)\n",
    "Test.assert_equals(nextEdge(5,11),15)\n",
    "Test.assert_equals(nextEdge(6,7),12)"
   ]
  },
  {
   "cell_type": "markdown",
   "metadata": {},
   "source": [
    "problem https://edabit.com/challenge/o2AKq4xy3nfZabKXL (3 points)"
   ]
  },
  {
   "cell_type": "code",
   "execution_count": 15,
   "metadata": {},
   "outputs": [],
   "source": [
    "def solutions(a,b,c):\n",
    "    d = b**2-4*a*c;\n",
    "    if d > 0:\n",
    "        return 2;\n",
    "    elif d == 0:\n",
    "        return 1;\n",
    "    else:\n",
    "        return 0;"
   ]
  },
  {
   "cell_type": "code",
   "execution_count": 16,
   "metadata": {},
   "outputs": [
    {
     "name": "stdout",
     "output_type": "stream",
     "text": [
      "Passed\n",
      "Passed\n",
      "Passed\n"
     ]
    }
   ],
   "source": [
    "Test.assert_equals(solutions(1, 0, -1),2)\n",
    "Test.assert_equals(solutions(1, 0, 0),1)\n",
    "Test.assert_equals(solutions(1, 0, 1),0)"
   ]
  },
  {
   "cell_type": "markdown",
   "metadata": {},
   "source": [
    "problem https://edabit.com/challenge/NNhkGocuPMcryW7GP (3 points)"
   ]
  },
  {
   "cell_type": "code",
   "execution_count": 17,
   "metadata": {},
   "outputs": [],
   "source": [
    "def square_areas_difference(r):\n",
    "    #length of side of big square equals to 2r\n",
    "    big_square_area = (2*r)**2;\n",
    "    #length of diagonal of small square equals to 2*r\n",
    "    #then according to Pythagorean theorem length of side of small square equals sqrt(2)*r\n",
    "    #finally, area of small square equals to 2*r*r\n",
    "    small_square_area = 2*r**2;\n",
    "    return big_square_area - small_square_area;"
   ]
  },
  {
   "cell_type": "code",
   "execution_count": 18,
   "metadata": {},
   "outputs": [
    {
     "name": "stdout",
     "output_type": "stream",
     "text": [
      "Passed\n",
      "Passed\n",
      "Passed\n"
     ]
    }
   ],
   "source": [
    "Test.assert_equals(square_areas_difference(5),50)\n",
    "Test.assert_equals(square_areas_difference(6),72)\n",
    "Test.assert_equals(square_areas_difference(7),98)"
   ]
  },
  {
   "cell_type": "markdown",
   "metadata": {},
   "source": [
    "problem https://edabit.com/challenge/xWSjvoH7mEkSnqS7H (1 point)"
   ]
  },
  {
   "cell_type": "code",
   "execution_count": 19,
   "metadata": {},
   "outputs": [],
   "source": [
    "def calculate_exponent(a,b):\n",
    "    return a**b;"
   ]
  },
  {
   "cell_type": "code",
   "execution_count": 20,
   "metadata": {},
   "outputs": [
    {
     "name": "stdout",
     "output_type": "stream",
     "text": [
      "Passed\n",
      "Passed\n",
      "Passed\n"
     ]
    }
   ],
   "source": [
    "Test.assert_equals(calculate_exponent(2,3),8)\n",
    "Test.assert_equals(calculate_exponent(5,5),3125)\n",
    "Test.assert_equals(calculate_exponent(10,10),10000000000)"
   ]
  },
  {
   "cell_type": "code",
   "execution_count": null,
   "metadata": {},
   "outputs": [],
   "source": []
  }
 ],
 "metadata": {
  "kernelspec": {
   "display_name": "Python 3",
   "language": "python",
   "name": "python3"
  },
  "language_info": {
   "codemirror_mode": {
    "name": "ipython",
    "version": 3
   },
   "file_extension": ".py",
   "mimetype": "text/x-python",
   "name": "python",
   "nbconvert_exporter": "python",
   "pygments_lexer": "ipython3",
   "version": "3.7.0"
  }
 },
 "nbformat": 4,
 "nbformat_minor": 2
}
